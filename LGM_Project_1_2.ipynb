{
  "nbformat": 4,
  "nbformat_minor": 0,
  "metadata": {
    "colab": {
      "provenance": []
    },
    "kernelspec": {
      "name": "python3",
      "display_name": "Python 3"
    },
    "language_info": {
      "name": "python"
    }
  },
  "cells": [
    {
      "cell_type": "code",
      "execution_count": 1,
      "metadata": {
        "id": "s3rnN6YHuc_L"
      },
      "outputs": [],
      "source": [
        "#Import necessary Libraries\n",
        "import pandas as pd\n",
        "import numpy as np\n",
        "import math\n",
        "import matplotlib.pyplot as plt\n",
        "from sklearn.preprocessing import MinMaxScaler\n",
        "from sklearn.metrics import mean_squared_error\n",
        "import tensorflow as tf\n",
        "from tensorflow.python.keras.models import Sequential\n",
        "from tensorflow.python.keras.layers import Dense\n",
        "from tensorflow.python.keras.layers import LSTM\n",
        "%matplotlib inline"
      ]
    },
    {
      "cell_type": "code",
      "source": [
        "df = pd.read_csv('https://github.com/rudrajikadra/Stock-Market-Prediction-and-Forecasting-Using-Stacked-LSTM/raw/master/Reliance_Stock.csv')\n",
        "df = df.dropna()\n",
        "df.head()"
      ],
      "metadata": {
        "colab": {
          "base_uri": "https://localhost:8080/",
          "height": 206
        },
        "id": "rv0Ii2YUufJh",
        "outputId": "4b8117f2-0cd3-483b-a701-9e18ac46e278"
      },
      "execution_count": 2,
      "outputs": [
        {
          "output_type": "execute_result",
          "data": {
            "text/plain": [
              "         Date        Open        High         Low       Close   Adj Close  \\\n",
              "0  2015-06-08  453.399994  455.000000  441.549988  442.725006  425.550629   \n",
              "1  2015-06-09  441.774994  445.325012  438.674988  441.850006  424.709564   \n",
              "2  2015-06-10  443.000000  454.950012  442.500000  452.899994  435.330933   \n",
              "3  2015-06-11  453.000000  454.750000  436.825012  438.575012  421.561676   \n",
              "4  2015-06-12  439.500000  446.350006  439.125000  444.924988  427.665283   \n",
              "\n",
              "      Volume  \n",
              "0  4958862.0  \n",
              "1  4184606.0  \n",
              "2  6176034.0  \n",
              "3  6709574.0  \n",
              "4  9849112.0  "
            ],
            "text/html": [
              "\n",
              "  <div id=\"df-2eac5510-e1a4-430f-aecd-5680e7de90f5\">\n",
              "    <div class=\"colab-df-container\">\n",
              "      <div>\n",
              "<style scoped>\n",
              "    .dataframe tbody tr th:only-of-type {\n",
              "        vertical-align: middle;\n",
              "    }\n",
              "\n",
              "    .dataframe tbody tr th {\n",
              "        vertical-align: top;\n",
              "    }\n",
              "\n",
              "    .dataframe thead th {\n",
              "        text-align: right;\n",
              "    }\n",
              "</style>\n",
              "<table border=\"1\" class=\"dataframe\">\n",
              "  <thead>\n",
              "    <tr style=\"text-align: right;\">\n",
              "      <th></th>\n",
              "      <th>Date</th>\n",
              "      <th>Open</th>\n",
              "      <th>High</th>\n",
              "      <th>Low</th>\n",
              "      <th>Close</th>\n",
              "      <th>Adj Close</th>\n",
              "      <th>Volume</th>\n",
              "    </tr>\n",
              "  </thead>\n",
              "  <tbody>\n",
              "    <tr>\n",
              "      <th>0</th>\n",
              "      <td>2015-06-08</td>\n",
              "      <td>453.399994</td>\n",
              "      <td>455.000000</td>\n",
              "      <td>441.549988</td>\n",
              "      <td>442.725006</td>\n",
              "      <td>425.550629</td>\n",
              "      <td>4958862.0</td>\n",
              "    </tr>\n",
              "    <tr>\n",
              "      <th>1</th>\n",
              "      <td>2015-06-09</td>\n",
              "      <td>441.774994</td>\n",
              "      <td>445.325012</td>\n",
              "      <td>438.674988</td>\n",
              "      <td>441.850006</td>\n",
              "      <td>424.709564</td>\n",
              "      <td>4184606.0</td>\n",
              "    </tr>\n",
              "    <tr>\n",
              "      <th>2</th>\n",
              "      <td>2015-06-10</td>\n",
              "      <td>443.000000</td>\n",
              "      <td>454.950012</td>\n",
              "      <td>442.500000</td>\n",
              "      <td>452.899994</td>\n",
              "      <td>435.330933</td>\n",
              "      <td>6176034.0</td>\n",
              "    </tr>\n",
              "    <tr>\n",
              "      <th>3</th>\n",
              "      <td>2015-06-11</td>\n",
              "      <td>453.000000</td>\n",
              "      <td>454.750000</td>\n",
              "      <td>436.825012</td>\n",
              "      <td>438.575012</td>\n",
              "      <td>421.561676</td>\n",
              "      <td>6709574.0</td>\n",
              "    </tr>\n",
              "    <tr>\n",
              "      <th>4</th>\n",
              "      <td>2015-06-12</td>\n",
              "      <td>439.500000</td>\n",
              "      <td>446.350006</td>\n",
              "      <td>439.125000</td>\n",
              "      <td>444.924988</td>\n",
              "      <td>427.665283</td>\n",
              "      <td>9849112.0</td>\n",
              "    </tr>\n",
              "  </tbody>\n",
              "</table>\n",
              "</div>\n",
              "      <button class=\"colab-df-convert\" onclick=\"convertToInteractive('df-2eac5510-e1a4-430f-aecd-5680e7de90f5')\"\n",
              "              title=\"Convert this dataframe to an interactive table.\"\n",
              "              style=\"display:none;\">\n",
              "        \n",
              "  <svg xmlns=\"http://www.w3.org/2000/svg\" height=\"24px\"viewBox=\"0 0 24 24\"\n",
              "       width=\"24px\">\n",
              "    <path d=\"M0 0h24v24H0V0z\" fill=\"none\"/>\n",
              "    <path d=\"M18.56 5.44l.94 2.06.94-2.06 2.06-.94-2.06-.94-.94-2.06-.94 2.06-2.06.94zm-11 1L8.5 8.5l.94-2.06 2.06-.94-2.06-.94L8.5 2.5l-.94 2.06-2.06.94zm10 10l.94 2.06.94-2.06 2.06-.94-2.06-.94-.94-2.06-.94 2.06-2.06.94z\"/><path d=\"M17.41 7.96l-1.37-1.37c-.4-.4-.92-.59-1.43-.59-.52 0-1.04.2-1.43.59L10.3 9.45l-7.72 7.72c-.78.78-.78 2.05 0 2.83L4 21.41c.39.39.9.59 1.41.59.51 0 1.02-.2 1.41-.59l7.78-7.78 2.81-2.81c.8-.78.8-2.07 0-2.86zM5.41 20L4 18.59l7.72-7.72 1.47 1.35L5.41 20z\"/>\n",
              "  </svg>\n",
              "      </button>\n",
              "      \n",
              "  <style>\n",
              "    .colab-df-container {\n",
              "      display:flex;\n",
              "      flex-wrap:wrap;\n",
              "      gap: 12px;\n",
              "    }\n",
              "\n",
              "    .colab-df-convert {\n",
              "      background-color: #E8F0FE;\n",
              "      border: none;\n",
              "      border-radius: 50%;\n",
              "      cursor: pointer;\n",
              "      display: none;\n",
              "      fill: #1967D2;\n",
              "      height: 32px;\n",
              "      padding: 0 0 0 0;\n",
              "      width: 32px;\n",
              "    }\n",
              "\n",
              "    .colab-df-convert:hover {\n",
              "      background-color: #E2EBFA;\n",
              "      box-shadow: 0px 1px 2px rgba(60, 64, 67, 0.3), 0px 1px 3px 1px rgba(60, 64, 67, 0.15);\n",
              "      fill: #174EA6;\n",
              "    }\n",
              "\n",
              "    [theme=dark] .colab-df-convert {\n",
              "      background-color: #3B4455;\n",
              "      fill: #D2E3FC;\n",
              "    }\n",
              "\n",
              "    [theme=dark] .colab-df-convert:hover {\n",
              "      background-color: #434B5C;\n",
              "      box-shadow: 0px 1px 3px 1px rgba(0, 0, 0, 0.15);\n",
              "      filter: drop-shadow(0px 1px 2px rgba(0, 0, 0, 0.3));\n",
              "      fill: #FFFFFF;\n",
              "    }\n",
              "  </style>\n",
              "\n",
              "      <script>\n",
              "        const buttonEl =\n",
              "          document.querySelector('#df-2eac5510-e1a4-430f-aecd-5680e7de90f5 button.colab-df-convert');\n",
              "        buttonEl.style.display =\n",
              "          google.colab.kernel.accessAllowed ? 'block' : 'none';\n",
              "\n",
              "        async function convertToInteractive(key) {\n",
              "          const element = document.querySelector('#df-2eac5510-e1a4-430f-aecd-5680e7de90f5');\n",
              "          const dataTable =\n",
              "            await google.colab.kernel.invokeFunction('convertToInteractive',\n",
              "                                                     [key], {});\n",
              "          if (!dataTable) return;\n",
              "\n",
              "          const docLinkHtml = 'Like what you see? Visit the ' +\n",
              "            '<a target=\"_blank\" href=https://colab.research.google.com/notebooks/data_table.ipynb>data table notebook</a>'\n",
              "            + ' to learn more about interactive tables.';\n",
              "          element.innerHTML = '';\n",
              "          dataTable['output_type'] = 'display_data';\n",
              "          await google.colab.output.renderOutput(dataTable, element);\n",
              "          const docLink = document.createElement('div');\n",
              "          docLink.innerHTML = docLinkHtml;\n",
              "          element.appendChild(docLink);\n",
              "        }\n",
              "      </script>\n",
              "    </div>\n",
              "  </div>\n",
              "  "
            ]
          },
          "metadata": {},
          "execution_count": 2
        }
      ]
    },
    {
      "cell_type": "code",
      "source": [
        "df.tail()"
      ],
      "metadata": {
        "colab": {
          "base_uri": "https://localhost:8080/",
          "height": 206
        },
        "id": "Vt6XeIn_ufHI",
        "outputId": "efb0d8b8-bff2-45ef-f833-df5f4e186872"
      },
      "execution_count": 3,
      "outputs": [
        {
          "output_type": "execute_result",
          "data": {
            "text/plain": [
              "            Date    Open         High          Low        Close    Adj Close  \\\n",
              "1224  2020-06-01  1480.0  1538.349976  1475.949951  1520.349976  1520.349976   \n",
              "1225  2020-06-02  1526.0  1540.000000  1520.800049  1535.699951  1535.699951   \n",
              "1226  2020-06-03  1545.0  1560.000000  1533.349976  1541.650024  1541.650024   \n",
              "1227  2020-06-04  1544.0  1589.500000  1541.000000  1579.800049  1579.800049   \n",
              "1228  2020-06-05  1595.0  1618.000000  1573.699951  1581.699951  1581.699951   \n",
              "\n",
              "          Volume  \n",
              "1224  18434012.0  \n",
              "1225  10224049.0  \n",
              "1226  11713461.0  \n",
              "1227  15784379.0  \n",
              "1228  15246965.0  "
            ],
            "text/html": [
              "\n",
              "  <div id=\"df-938aed7b-4562-4fe4-9ec8-eec814cfc895\">\n",
              "    <div class=\"colab-df-container\">\n",
              "      <div>\n",
              "<style scoped>\n",
              "    .dataframe tbody tr th:only-of-type {\n",
              "        vertical-align: middle;\n",
              "    }\n",
              "\n",
              "    .dataframe tbody tr th {\n",
              "        vertical-align: top;\n",
              "    }\n",
              "\n",
              "    .dataframe thead th {\n",
              "        text-align: right;\n",
              "    }\n",
              "</style>\n",
              "<table border=\"1\" class=\"dataframe\">\n",
              "  <thead>\n",
              "    <tr style=\"text-align: right;\">\n",
              "      <th></th>\n",
              "      <th>Date</th>\n",
              "      <th>Open</th>\n",
              "      <th>High</th>\n",
              "      <th>Low</th>\n",
              "      <th>Close</th>\n",
              "      <th>Adj Close</th>\n",
              "      <th>Volume</th>\n",
              "    </tr>\n",
              "  </thead>\n",
              "  <tbody>\n",
              "    <tr>\n",
              "      <th>1224</th>\n",
              "      <td>2020-06-01</td>\n",
              "      <td>1480.0</td>\n",
              "      <td>1538.349976</td>\n",
              "      <td>1475.949951</td>\n",
              "      <td>1520.349976</td>\n",
              "      <td>1520.349976</td>\n",
              "      <td>18434012.0</td>\n",
              "    </tr>\n",
              "    <tr>\n",
              "      <th>1225</th>\n",
              "      <td>2020-06-02</td>\n",
              "      <td>1526.0</td>\n",
              "      <td>1540.000000</td>\n",
              "      <td>1520.800049</td>\n",
              "      <td>1535.699951</td>\n",
              "      <td>1535.699951</td>\n",
              "      <td>10224049.0</td>\n",
              "    </tr>\n",
              "    <tr>\n",
              "      <th>1226</th>\n",
              "      <td>2020-06-03</td>\n",
              "      <td>1545.0</td>\n",
              "      <td>1560.000000</td>\n",
              "      <td>1533.349976</td>\n",
              "      <td>1541.650024</td>\n",
              "      <td>1541.650024</td>\n",
              "      <td>11713461.0</td>\n",
              "    </tr>\n",
              "    <tr>\n",
              "      <th>1227</th>\n",
              "      <td>2020-06-04</td>\n",
              "      <td>1544.0</td>\n",
              "      <td>1589.500000</td>\n",
              "      <td>1541.000000</td>\n",
              "      <td>1579.800049</td>\n",
              "      <td>1579.800049</td>\n",
              "      <td>15784379.0</td>\n",
              "    </tr>\n",
              "    <tr>\n",
              "      <th>1228</th>\n",
              "      <td>2020-06-05</td>\n",
              "      <td>1595.0</td>\n",
              "      <td>1618.000000</td>\n",
              "      <td>1573.699951</td>\n",
              "      <td>1581.699951</td>\n",
              "      <td>1581.699951</td>\n",
              "      <td>15246965.0</td>\n",
              "    </tr>\n",
              "  </tbody>\n",
              "</table>\n",
              "</div>\n",
              "      <button class=\"colab-df-convert\" onclick=\"convertToInteractive('df-938aed7b-4562-4fe4-9ec8-eec814cfc895')\"\n",
              "              title=\"Convert this dataframe to an interactive table.\"\n",
              "              style=\"display:none;\">\n",
              "        \n",
              "  <svg xmlns=\"http://www.w3.org/2000/svg\" height=\"24px\"viewBox=\"0 0 24 24\"\n",
              "       width=\"24px\">\n",
              "    <path d=\"M0 0h24v24H0V0z\" fill=\"none\"/>\n",
              "    <path d=\"M18.56 5.44l.94 2.06.94-2.06 2.06-.94-2.06-.94-.94-2.06-.94 2.06-2.06.94zm-11 1L8.5 8.5l.94-2.06 2.06-.94-2.06-.94L8.5 2.5l-.94 2.06-2.06.94zm10 10l.94 2.06.94-2.06 2.06-.94-2.06-.94-.94-2.06-.94 2.06-2.06.94z\"/><path d=\"M17.41 7.96l-1.37-1.37c-.4-.4-.92-.59-1.43-.59-.52 0-1.04.2-1.43.59L10.3 9.45l-7.72 7.72c-.78.78-.78 2.05 0 2.83L4 21.41c.39.39.9.59 1.41.59.51 0 1.02-.2 1.41-.59l7.78-7.78 2.81-2.81c.8-.78.8-2.07 0-2.86zM5.41 20L4 18.59l7.72-7.72 1.47 1.35L5.41 20z\"/>\n",
              "  </svg>\n",
              "      </button>\n",
              "      \n",
              "  <style>\n",
              "    .colab-df-container {\n",
              "      display:flex;\n",
              "      flex-wrap:wrap;\n",
              "      gap: 12px;\n",
              "    }\n",
              "\n",
              "    .colab-df-convert {\n",
              "      background-color: #E8F0FE;\n",
              "      border: none;\n",
              "      border-radius: 50%;\n",
              "      cursor: pointer;\n",
              "      display: none;\n",
              "      fill: #1967D2;\n",
              "      height: 32px;\n",
              "      padding: 0 0 0 0;\n",
              "      width: 32px;\n",
              "    }\n",
              "\n",
              "    .colab-df-convert:hover {\n",
              "      background-color: #E2EBFA;\n",
              "      box-shadow: 0px 1px 2px rgba(60, 64, 67, 0.3), 0px 1px 3px 1px rgba(60, 64, 67, 0.15);\n",
              "      fill: #174EA6;\n",
              "    }\n",
              "\n",
              "    [theme=dark] .colab-df-convert {\n",
              "      background-color: #3B4455;\n",
              "      fill: #D2E3FC;\n",
              "    }\n",
              "\n",
              "    [theme=dark] .colab-df-convert:hover {\n",
              "      background-color: #434B5C;\n",
              "      box-shadow: 0px 1px 3px 1px rgba(0, 0, 0, 0.15);\n",
              "      filter: drop-shadow(0px 1px 2px rgba(0, 0, 0, 0.3));\n",
              "      fill: #FFFFFF;\n",
              "    }\n",
              "  </style>\n",
              "\n",
              "      <script>\n",
              "        const buttonEl =\n",
              "          document.querySelector('#df-938aed7b-4562-4fe4-9ec8-eec814cfc895 button.colab-df-convert');\n",
              "        buttonEl.style.display =\n",
              "          google.colab.kernel.accessAllowed ? 'block' : 'none';\n",
              "\n",
              "        async function convertToInteractive(key) {\n",
              "          const element = document.querySelector('#df-938aed7b-4562-4fe4-9ec8-eec814cfc895');\n",
              "          const dataTable =\n",
              "            await google.colab.kernel.invokeFunction('convertToInteractive',\n",
              "                                                     [key], {});\n",
              "          if (!dataTable) return;\n",
              "\n",
              "          const docLinkHtml = 'Like what you see? Visit the ' +\n",
              "            '<a target=\"_blank\" href=https://colab.research.google.com/notebooks/data_table.ipynb>data table notebook</a>'\n",
              "            + ' to learn more about interactive tables.';\n",
              "          element.innerHTML = '';\n",
              "          dataTable['output_type'] = 'display_data';\n",
              "          await google.colab.output.renderOutput(dataTable, element);\n",
              "          const docLink = document.createElement('div');\n",
              "          docLink.innerHTML = docLinkHtml;\n",
              "          element.appendChild(docLink);\n",
              "        }\n",
              "      </script>\n",
              "    </div>\n",
              "  </div>\n",
              "  "
            ]
          },
          "metadata": {},
          "execution_count": 3
        }
      ]
    },
    {
      "cell_type": "code",
      "source": [
        "df_close = df['Close']"
      ],
      "metadata": {
        "id": "ft0dzTmpufDn"
      },
      "execution_count": 4,
      "outputs": []
    },
    {
      "cell_type": "code",
      "source": [
        "df_close.shape"
      ],
      "metadata": {
        "colab": {
          "base_uri": "https://localhost:8080/"
        },
        "id": "q8ch9laSufAZ",
        "outputId": "9b7bca08-3412-4e41-cacf-90439fc1754a"
      },
      "execution_count": 5,
      "outputs": [
        {
          "output_type": "execute_result",
          "data": {
            "text/plain": [
              "(1228,)"
            ]
          },
          "metadata": {},
          "execution_count": 5
        }
      ]
    },
    {
      "cell_type": "code",
      "source": [
        "plt.plot(df_close)"
      ],
      "metadata": {
        "colab": {
          "base_uri": "https://localhost:8080/",
          "height": 447
        },
        "id": "STA5B09eue9T",
        "outputId": "77fce25d-f2d3-4691-e166-7e3640fa53a0"
      },
      "execution_count": 6,
      "outputs": [
        {
          "output_type": "execute_result",
          "data": {
            "text/plain": [
              "[<matplotlib.lines.Line2D at 0x7f3f1b807190>]"
            ]
          },
          "metadata": {},
          "execution_count": 6
        },
        {
          "output_type": "display_data",
          "data": {
            "text/plain": [
              "<Figure size 640x480 with 1 Axes>"
            ],
            "image/png": "[encoded data removed]"
          },
          "metadata": {}
        }
      ]
    },
    {
      "cell_type": "code",
      "source": [
        "scaler = MinMaxScaler(feature_range = (0,1))\n",
        "df_close = scaler.fit_transform(np.array(df_close).reshape(-1,1))"
      ],
      "metadata": {
        "id": "va-_34Tzue5v"
      },
      "execution_count": 7,
      "outputs": []
    },
    {
      "cell_type": "code",
      "source": [
        "df_close.shape\n"
      ],
      "metadata": {
        "colab": {
          "base_uri": "https://localhost:8080/"
        },
        "id": "NMH2bJJtue2f",
        "outputId": "f522716a-7790-4e57-fbda-08347e18d503"
      },
      "execution_count": 8,
      "outputs": [
        {
          "output_type": "execute_result",
          "data": {
            "text/plain": [
              "(1228, 1)"
            ]
          },
          "metadata": {},
          "execution_count": 8
        }
      ]
    },
    {
      "cell_type": "code",
      "source": [
        "df_close"
      ],
      "metadata": {
        "colab": {
          "base_uri": "https://localhost:8080/"
        },
        "id": "CrBJWDBzuezZ",
        "outputId": "25781687-8d7d-45ac-e2ef-849518670aa6"
      },
      "execution_count": 9,
      "outputs": [
        {
          "output_type": "execute_result",
          "data": {
            "text/plain": [
              "array([[0.02338571],\n",
              "       [0.0226536 ],\n",
              "       [0.0318991 ],\n",
              "       ...,\n",
              "       [0.94285362],\n",
              "       [0.97477365],\n",
              "       [0.97636329]])"
            ]
          },
          "metadata": {},
          "execution_count": 9
        }
      ]
    },
    {
      "cell_type": "code",
      "source": [
        "\n",
        " training_size = int(len(df_close) * 0.75)\n",
        "test_size = len(df_close) - training_size\n",
        "train_data, test_data = df_close[0:training_size,:], df_close[training_size:len(df_close),:1]"
      ],
      "metadata": {
        "id": "FTmtFytjuesg"
      },
      "execution_count": 10,
      "outputs": []
    },
    {
      "cell_type": "code",
      "source": [
        "def create_dataset(dataset, time_step = 1):\n",
        "    dataX, dataY = [], []\n",
        "    for i in range(len(dataset) - time_step - 1):\n",
        "        a = dataset[i:(i+time_step), 0]\n",
        "        dataX.append(a)\n",
        "        dataY.append(dataset[i+time_step, 0])\n",
        "    return np.array(dataX), np.array(dataY)\n"
      ],
      "metadata": {
        "id": "-aTqFKl9uepI"
      },
      "execution_count": 11,
      "outputs": []
    },
    {
      "cell_type": "code",
      "source": [
        "time_step = 100\n",
        "x_train, y_train = create_dataset(train_data, time_step)\n",
        "x_test, y_test = create_dataset(test_data, time_step)"
      ],
      "metadata": {
        "id": "WZL7ccEevCvm"
      },
      "execution_count": 12,
      "outputs": []
    },
    {
      "cell_type": "code",
      "source": [
        "x_train = x_train.reshape(x_train.shape[0], x_train.shape[1], 1)\n",
        "x_test = x_test.reshape(x_test.shape[0], x_test.shape[1], 1)"
      ],
      "metadata": {
        "id": "rt86zADGvEm-"
      },
      "execution_count": 13,
      "outputs": []
    },
    {
      "cell_type": "code",
      "source": [
        "#Create the LSTM Model\n",
        "model = Sequential()\n",
        "model.add(LSTM(50, return_sequences = True, input_shape = (100,1)))\n",
        "model.add(LSTM(50, return_sequences = True))\n",
        "model.add(LSTM(50))\n",
        "model.add(Dense(1))\n",
        "model.compile(loss = 'mean_squared_error', optimizer = 'adam')"
      ],
      "metadata": {
        "id": "Tv9Ed661vIq_"
      },
      "execution_count": 14,
      "outputs": []
    },
    {
      "cell_type": "code",
      "source": [
        "model.summary()"
      ],
      "metadata": {
        "colab": {
          "base_uri": "https://localhost:8080/"
        },
        "id": "9VCKiANtvNKX",
        "outputId": "06286b80-cf9a-4873-ec7c-7c13452f9c24"
      },
      "execution_count": 15,
      "outputs": [
        {
          "output_type": "stream",
          "name": "stdout",
          "text": [
            "Model: \"sequential\"\n",
            "_________________________________________________________________\n",
            "Layer (type)                 Output Shape              Param #   \n",
            "=================================================================\n",
            "lstm (LSTM)                  (None, 100, 50)           10400     \n",
            "_________________________________________________________________\n",
            "lstm_1 (LSTM)                (None, 100, 50)           20200     \n",
            "_________________________________________________________________\n",
            "lstm_2 (LSTM)                (None, 50)                20200     \n",
            "_________________________________________________________________\n",
            "dense (Dense)                (None, 1)                 51        \n",
            "=================================================================\n",
            "Total params: 50,851\n",
            "Trainable params: 50,851\n",
            "Non-trainable params: 0\n",
            "_________________________________________________________________\n"
          ]
        }
      ]
    },
    {
      "cell_type": "code",
      "source": [
        "model.fit(x_train, y_train, validation_data = (x_test, y_test), epochs = 100, batch_size = 64, verbose = 1)"
      ],
      "metadata": {
        "colab": {
          "base_uri": "https://localhost:8080/"
        },
        "id": "6Wimf03IvP1Q",
        "outputId": "5172c30f-3e47-4e94-d7d6-c302ce566ae0"
      },
      "execution_count": 16,
      "outputs": [
        {
          "output_type": "stream",
          "name": "stdout",
          "text": [
            "Epoch 1/100\n",
            "13/13 [==============================] - 29s 543ms/step - loss: 0.0573 - val_loss: 0.0236\n",
            "Epoch 2/100\n",
            "13/13 [==============================] - 7s 538ms/step - loss: 0.0089 - val_loss: 0.0105\n",
            "Epoch 3/100\n",
            "13/13 [==============================] - 5s 421ms/step - loss: 0.0029 - val_loss: 0.0140\n",
            "Epoch 4/100\n",
            "13/13 [==============================] - 7s 553ms/step - loss: 0.0014 - val_loss: 0.0104\n",
            "Epoch 5/100\n",
            "13/13 [==============================] - 6s 427ms/step - loss: 0.0012 - val_loss: 0.0104\n",
            "Epoch 6/100\n",
            "13/13 [==============================] - 7s 542ms/step - loss: 0.0011 - val_loss: 0.0093\n",
            "Epoch 7/100\n",
            "13/13 [==============================] - 5s 420ms/step - loss: 0.0011 - val_loss: 0.0092\n",
            "Epoch 8/100\n",
            "13/13 [==============================] - 10s 791ms/step - loss: 0.0010 - val_loss: 0.0091\n",
            "Epoch 9/100\n",
            "13/13 [==============================] - 13s 969ms/step - loss: 9.9515e-04 - val_loss: 0.0091\n",
            "Epoch 10/100\n",
            "13/13 [==============================] - 5s 423ms/step - loss: 9.7014e-04 - val_loss: 0.0088\n",
            "Epoch 11/100\n",
            "13/13 [==============================] - 7s 544ms/step - loss: 9.6442e-04 - val_loss: 0.0088\n",
            "Epoch 12/100\n",
            "13/13 [==============================] - 6s 424ms/step - loss: 9.5225e-04 - val_loss: 0.0091\n",
            "Epoch 13/100\n",
            "13/13 [==============================] - 7s 562ms/step - loss: 9.5676e-04 - val_loss: 0.0086\n",
            "Epoch 14/100\n",
            "13/13 [==============================] - 6s 438ms/step - loss: 9.6983e-04 - val_loss: 0.0083\n",
            "Epoch 15/100\n",
            "13/13 [==============================] - 10s 771ms/step - loss: 9.3785e-04 - val_loss: 0.0086\n",
            "Epoch 16/100\n",
            "13/13 [==============================] - 6s 466ms/step - loss: 9.0993e-04 - val_loss: 0.0093\n",
            "Epoch 17/100\n",
            "13/13 [==============================] - 6s 464ms/step - loss: 8.9509e-04 - val_loss: 0.0085\n",
            "Epoch 18/100\n",
            "13/13 [==============================] - 5s 415ms/step - loss: 8.8951e-04 - val_loss: 0.0079\n",
            "Epoch 19/100\n",
            "13/13 [==============================] - 7s 518ms/step - loss: 8.4685e-04 - val_loss: 0.0078\n",
            "Epoch 20/100\n",
            "13/13 [==============================] - 5s 415ms/step - loss: 8.7315e-04 - val_loss: 0.0077\n",
            "Epoch 21/100\n",
            "13/13 [==============================] - 7s 531ms/step - loss: 8.2011e-04 - val_loss: 0.0074\n",
            "Epoch 22/100\n",
            "13/13 [==============================] - 6s 505ms/step - loss: 8.2108e-04 - val_loss: 0.0090\n",
            "Epoch 23/100\n",
            "13/13 [==============================] - 7s 536ms/step - loss: 8.2188e-04 - val_loss: 0.0078\n",
            "Epoch 24/100\n",
            "13/13 [==============================] - 5s 413ms/step - loss: 8.1718e-04 - val_loss: 0.0090\n",
            "Epoch 25/100\n",
            "13/13 [==============================] - 7s 558ms/step - loss: 8.0074e-04 - val_loss: 0.0095\n",
            "Epoch 26/100\n",
            "13/13 [==============================] - 6s 426ms/step - loss: 8.9182e-04 - val_loss: 0.0058\n",
            "Epoch 27/100\n",
            "13/13 [==============================] - 7s 535ms/step - loss: 8.9609e-04 - val_loss: 0.0088\n",
            "Epoch 28/100\n",
            "13/13 [==============================] - 5s 421ms/step - loss: 9.4071e-04 - val_loss: 0.0086\n",
            "Epoch 29/100\n",
            "13/13 [==============================] - 7s 535ms/step - loss: 7.5492e-04 - val_loss: 0.0055\n",
            "Epoch 30/100\n",
            "13/13 [==============================] - 5s 417ms/step - loss: 7.9862e-04 - val_loss: 0.0082\n",
            "Epoch 31/100\n",
            "13/13 [==============================] - 7s 533ms/step - loss: 7.6390e-04 - val_loss: 0.0058\n",
            "Epoch 32/100\n",
            "13/13 [==============================] - 5s 411ms/step - loss: 6.8278e-04 - val_loss: 0.0063\n",
            "Epoch 33/100\n",
            "13/13 [==============================] - 6s 482ms/step - loss: 7.3666e-04 - val_loss: 0.0069\n",
            "Epoch 34/100\n",
            "13/13 [==============================] - 6s 434ms/step - loss: 7.1227e-04 - val_loss: 0.0090\n",
            "Epoch 35/100\n",
            "13/13 [==============================] - 6s 427ms/step - loss: 7.1065e-04 - val_loss: 0.0047\n",
            "Epoch 36/100\n",
            "13/13 [==============================] - 7s 506ms/step - loss: 7.4232e-04 - val_loss: 0.0099\n",
            "Epoch 37/100\n",
            "13/13 [==============================] - 6s 428ms/step - loss: 7.5537e-04 - val_loss: 0.0046\n",
            "Epoch 38/100\n",
            "13/13 [==============================] - 7s 534ms/step - loss: 6.8718e-04 - val_loss: 0.0074\n",
            "Epoch 39/100\n",
            "13/13 [==============================] - 5s 420ms/step - loss: 6.4590e-04 - val_loss: 0.0062\n",
            "Epoch 40/100\n",
            "13/13 [==============================] - 7s 534ms/step - loss: 6.3008e-04 - val_loss: 0.0083\n",
            "Epoch 41/100\n",
            "13/13 [==============================] - 5s 414ms/step - loss: 6.4325e-04 - val_loss: 0.0050\n",
            "Epoch 42/100\n",
            "13/13 [==============================] - 7s 531ms/step - loss: 6.8323e-04 - val_loss: 0.0114\n",
            "Epoch 43/100\n",
            "13/13 [==============================] - 5s 413ms/step - loss: 7.1769e-04 - val_loss: 0.0052\n",
            "Epoch 44/100\n",
            "13/13 [==============================] - 7s 560ms/step - loss: 6.1511e-04 - val_loss: 0.0056\n",
            "Epoch 45/100\n",
            "13/13 [==============================] - 7s 554ms/step - loss: 5.9838e-04 - val_loss: 0.0056\n",
            "Epoch 46/100\n",
            "13/13 [==============================] - 7s 542ms/step - loss: 6.0795e-04 - val_loss: 0.0051\n",
            "Epoch 47/100\n",
            "13/13 [==============================] - 5s 421ms/step - loss: 6.1866e-04 - val_loss: 0.0060\n",
            "Epoch 48/100\n",
            "13/13 [==============================] - 7s 546ms/step - loss: 6.4101e-04 - val_loss: 0.0066\n",
            "Epoch 49/100\n",
            "13/13 [==============================] - 5s 413ms/step - loss: 5.9774e-04 - val_loss: 0.0063\n",
            "Epoch 50/100\n",
            "13/13 [==============================] - 7s 532ms/step - loss: 5.6661e-04 - val_loss: 0.0069\n",
            "Epoch 51/100\n",
            "13/13 [==============================] - 5s 422ms/step - loss: 6.0610e-04 - val_loss: 0.0048\n",
            "Epoch 52/100\n",
            "13/13 [==============================] - 6s 497ms/step - loss: 5.8780e-04 - val_loss: 0.0061\n",
            "Epoch 53/100\n",
            "13/13 [==============================] - 6s 425ms/step - loss: 5.5728e-04 - val_loss: 0.0075\n",
            "Epoch 54/100\n",
            "13/13 [==============================] - 6s 442ms/step - loss: 5.6610e-04 - val_loss: 0.0044\n",
            "Epoch 55/100\n",
            "13/13 [==============================] - 7s 487ms/step - loss: 5.6107e-04 - val_loss: 0.0065\n",
            "Epoch 56/100\n",
            "13/13 [==============================] - 5s 415ms/step - loss: 6.0673e-04 - val_loss: 0.0039\n",
            "Epoch 57/100\n",
            "13/13 [==============================] - 7s 532ms/step - loss: 6.0848e-04 - val_loss: 0.0050\n",
            "Epoch 58/100\n",
            "13/13 [==============================] - 5s 415ms/step - loss: 6.0455e-04 - val_loss: 0.0042\n",
            "Epoch 59/100\n",
            "13/13 [==============================] - 7s 529ms/step - loss: 5.4558e-04 - val_loss: 0.0040\n",
            "Epoch 60/100\n",
            "13/13 [==============================] - 5s 419ms/step - loss: 5.8174e-04 - val_loss: 0.0069\n",
            "Epoch 61/100\n",
            "13/13 [==============================] - 7s 532ms/step - loss: 5.4180e-04 - val_loss: 0.0056\n",
            "Epoch 62/100\n",
            "13/13 [==============================] - 5s 413ms/step - loss: 5.6720e-04 - val_loss: 0.0039\n",
            "Epoch 63/100\n",
            "13/13 [==============================] - 7s 536ms/step - loss: 5.5068e-04 - val_loss: 0.0054\n",
            "Epoch 64/100\n",
            "13/13 [==============================] - 5s 417ms/step - loss: 5.3999e-04 - val_loss: 0.0053\n",
            "Epoch 65/100\n",
            "13/13 [==============================] - 6s 508ms/step - loss: 5.2575e-04 - val_loss: 0.0055\n",
            "Epoch 66/100\n",
            "13/13 [==============================] - 6s 418ms/step - loss: 5.3988e-04 - val_loss: 0.0033\n",
            "Epoch 67/100\n",
            "13/13 [==============================] - 6s 455ms/step - loss: 5.6745e-04 - val_loss: 0.0095\n",
            "Epoch 68/100\n",
            "13/13 [==============================] - 6s 460ms/step - loss: 5.4561e-04 - val_loss: 0.0032\n",
            "Epoch 69/100\n",
            "13/13 [==============================] - 5s 414ms/step - loss: 6.0726e-04 - val_loss: 0.0081\n",
            "Epoch 70/100\n",
            "13/13 [==============================] - 7s 525ms/step - loss: 6.2088e-04 - val_loss: 0.0034\n",
            "Epoch 71/100\n",
            "13/13 [==============================] - 5s 416ms/step - loss: 5.2745e-04 - val_loss: 0.0071\n",
            "Epoch 72/100\n",
            "13/13 [==============================] - 7s 536ms/step - loss: 5.2249e-04 - val_loss: 0.0045\n",
            "Epoch 73/100\n",
            "13/13 [==============================] - 5s 422ms/step - loss: 5.0314e-04 - val_loss: 0.0048\n",
            "Epoch 74/100\n",
            "13/13 [==============================] - 7s 531ms/step - loss: 5.0238e-04 - val_loss: 0.0057\n",
            "Epoch 75/100\n",
            "13/13 [==============================] - 5s 416ms/step - loss: 5.4583e-04 - val_loss: 0.0039\n",
            "Epoch 76/100\n",
            "13/13 [==============================] - 7s 528ms/step - loss: 5.0268e-04 - val_loss: 0.0044\n",
            "Epoch 77/100\n",
            "13/13 [==============================] - 5s 417ms/step - loss: 5.1295e-04 - val_loss: 0.0047\n",
            "Epoch 78/100\n",
            "13/13 [==============================] - 7s 536ms/step - loss: 4.9616e-04 - val_loss: 0.0058\n",
            "Epoch 79/100\n",
            "13/13 [==============================] - 5s 414ms/step - loss: 5.3053e-04 - val_loss: 0.0034\n",
            "Epoch 80/100\n",
            "13/13 [==============================] - 6s 474ms/step - loss: 4.9405e-04 - val_loss: 0.0038\n",
            "Epoch 81/100\n",
            "13/13 [==============================] - 6s 451ms/step - loss: 5.1863e-04 - val_loss: 0.0058\n",
            "Epoch 82/100\n",
            "13/13 [==============================] - 6s 447ms/step - loss: 5.1528e-04 - val_loss: 0.0028\n",
            "Epoch 83/100\n",
            "13/13 [==============================] - 7s 492ms/step - loss: 5.9271e-04 - val_loss: 0.0059\n",
            "Epoch 84/100\n",
            "13/13 [==============================] - 6s 426ms/step - loss: 5.3056e-04 - val_loss: 0.0039\n",
            "Epoch 85/100\n",
            "13/13 [==============================] - 7s 550ms/step - loss: 4.8748e-04 - val_loss: 0.0049\n",
            "Epoch 86/100\n",
            "13/13 [==============================] - 5s 416ms/step - loss: 4.8562e-04 - val_loss: 0.0046\n",
            "Epoch 87/100\n",
            "13/13 [==============================] - 7s 553ms/step - loss: 4.7309e-04 - val_loss: 0.0049\n",
            "Epoch 88/100\n",
            "13/13 [==============================] - 6s 436ms/step - loss: 5.1946e-04 - val_loss: 0.0030\n",
            "Epoch 89/100\n",
            "13/13 [==============================] - 7s 545ms/step - loss: 4.7270e-04 - val_loss: 0.0047\n",
            "Epoch 90/100\n",
            "13/13 [==============================] - 6s 429ms/step - loss: 5.0123e-04 - val_loss: 0.0038\n",
            "Epoch 91/100\n",
            "13/13 [==============================] - 7s 551ms/step - loss: 5.6725e-04 - val_loss: 0.0048\n",
            "Epoch 92/100\n",
            "13/13 [==============================] - 5s 423ms/step - loss: 4.9576e-04 - val_loss: 0.0037\n",
            "Epoch 93/100\n",
            "13/13 [==============================] - 7s 550ms/step - loss: 4.8027e-04 - val_loss: 0.0031\n",
            "Epoch 94/100\n",
            "13/13 [==============================] - 5s 424ms/step - loss: 4.4291e-04 - val_loss: 0.0033\n",
            "Epoch 95/100\n",
            "13/13 [==============================] - 7s 549ms/step - loss: 4.4260e-04 - val_loss: 0.0033\n",
            "Epoch 96/100\n",
            "13/13 [==============================] - 6s 427ms/step - loss: 4.4820e-04 - val_loss: 0.0033\n",
            "Epoch 97/100\n",
            "13/13 [==============================] - 7s 551ms/step - loss: 4.4988e-04 - val_loss: 0.0045\n",
            "Epoch 98/100\n",
            "13/13 [==============================] - 6s 446ms/step - loss: 5.0955e-04 - val_loss: 0.0028\n",
            "Epoch 99/100\n",
            "13/13 [==============================] - 7s 564ms/step - loss: 4.4759e-04 - val_loss: 0.0034\n",
            "Epoch 100/100\n",
            "13/13 [==============================] - 6s 428ms/step - loss: 4.5839e-04 - val_loss: 0.0044\n"
          ]
        },
        {
          "output_type": "execute_result",
          "data": {
            "text/plain": [
              "<tensorflow.python.keras.callbacks.History at 0x7f3f1638e110>"
            ]
          },
          "metadata": {},
          "execution_count": 16
        }
      ]
    },
    {
      "cell_type": "code",
      "source": [
        "train_predict = model.predict(x_train)\n",
        "test_predict = model.predict(x_test)"
      ],
      "metadata": {
        "id": "ADCAvxmWvR0-"
      },
      "execution_count": 17,
      "outputs": []
    },
    {
      "cell_type": "code",
      "source": [
        "train_predict = model.predict(x_train)\n",
        "test_predict = model.predict(x_test)"
      ],
      "metadata": {
        "id": "aL2pHM80vVs_"
      },
      "execution_count": 18,
      "outputs": []
    },
    {
      "cell_type": "code",
      "source": [
        "\n",
        "math.sqrt(mean_squared_error(y_train, train_predict))"
      ],
      "metadata": {
        "colab": {
          "base_uri": "https://localhost:8080/"
        },
        "id": "6OtaEXQnvX6m",
        "outputId": "3e9c00cb-db78-408c-cc9a-04dae6139bd3"
      },
      "execution_count": 19,
      "outputs": [
        {
          "output_type": "execute_result",
          "data": {
            "text/plain": [
              "0.02082348247945707"
            ]
          },
          "metadata": {},
          "execution_count": 19
        }
      ]
    },
    {
      "cell_type": "code",
      "source": [
        "math.sqrt(mean_squared_error(y_test, test_predict))"
      ],
      "metadata": {
        "colab": {
          "base_uri": "https://localhost:8080/"
        },
        "id": "EDRG5kLtva9g",
        "outputId": "a957061d-8586-46c6-af70-58a8846fb065"
      },
      "execution_count": 20,
      "outputs": [
        {
          "output_type": "execute_result",
          "data": {
            "text/plain": [
              "0.06605305740803294"
            ]
          },
          "metadata": {},
          "execution_count": 20
        }
      ]
    },
    {
      "cell_type": "code",
      "source": [
        "#Plotting\n",
        "\n",
        "#Shift train prediction for plotting\n",
        "look_back = 100\n",
        "trainPredictPlot = np.empty_like(df_close)\n",
        "trainPredictPlot[:,:] = np.nan\n",
        "trainPredictPlot[look_back:len(train_predict) + look_back, :] = train_predict\n",
        "\n",
        "#Shift test prediction for plotting\n",
        "testPredictPlot = np.empty_like(df_close)\n",
        "testPredictPlot[:,:] = np.nan\n",
        "testPredictPlot[len(train_predict) + (look_back * 2)+1:len(df_close) - 1, :] = test_predict\n",
        "\n",
        "#Plot baseline and predictions\n",
        "plt.plot(scaler.inverse_transform(df_close))\n",
        "plt.plot(trainPredictPlot)\n",
        "plt.plot(testPredictPlot)\n",
        "plt.show()"
      ],
      "metadata": {
        "colab": {
          "base_uri": "https://localhost:8080/",
          "height": 430
        },
        "id": "wJlRB2X3vdfn",
        "outputId": "54d939d9-2e7a-43d6-835b-fe29385fc240"
      },
      "execution_count": 21,
      "outputs": [
        {
          "output_type": "display_data",
          "data": {
            "text/plain": [
              "<Figure size 640x480 with 1 Axes>"
            ],
            "image/png": "[encoded data removed]"
          },
          "metadata": {}
        }
      ]
    },
    {
      "cell_type": "code",
      "source": [
        "len(test_data), x_test.shape"
      ],
      "metadata": {
        "colab": {
          "base_uri": "https://localhost:8080/"
        },
        "id": "Qn0W2UjSviEu",
        "outputId": "927b28c6-ee6a-46f7-920b-0969174ebbee"
      },
      "execution_count": 22,
      "outputs": [
        {
          "output_type": "execute_result",
          "data": {
            "text/plain": [
              "(307, (206, 100, 1))"
            ]
          },
          "metadata": {},
          "execution_count": 22
        }
      ]
    },
    {
      "cell_type": "code",
      "source": [
        "x_input = test_data[207:].reshape(1,-1)\n",
        "x_input.shape"
      ],
      "metadata": {
        "colab": {
          "base_uri": "https://localhost:8080/"
        },
        "id": "1kSgxMpLvih_",
        "outputId": "7a9fc778-5670-4a99-e777-477f10a7b8d4"
      },
      "execution_count": 23,
      "outputs": [
        {
          "output_type": "execute_result",
          "data": {
            "text/plain": [
              "(1, 100)"
            ]
          },
          "metadata": {},
          "execution_count": 23
        }
      ]
    },
    {
      "cell_type": "code",
      "source": [
        "temp_input = list(x_input)\n",
        "temp_input = temp_input[0].tolist()"
      ],
      "metadata": {
        "id": "wMwmfcQGvky1"
      },
      "execution_count": 24,
      "outputs": []
    },
    {
      "cell_type": "code",
      "source": [
        "lst_output=[]\n",
        "n_steps=100\n",
        "nextNumberOfDays = 30\n",
        "i=0\n",
        "\n",
        "while(i<nextNumberOfDays):\n",
        "    \n",
        "    if(len(temp_input)>100):\n",
        "        x_input=np.array(temp_input[1:])\n",
        "        print(\"{} day input {}\".format(i,x_input))\n",
        "        x_input=x_input.reshape(1,-1)\n",
        "        x_input = x_input.reshape((1, n_steps, 1))\n",
        "        yhat = model.predict(x_input, verbose=0)\n",
        "        print(\"{} day output {}\".format(i,yhat))\n",
        "        temp_input.extend(yhat[0].tolist())\n",
        "        temp_input=temp_input[1:]\n",
        "        lst_output.extend(yhat.tolist())\n",
        "        i=i+1\n",
        "    else:\n",
        "        x_input = x_input.reshape((1, n_steps,1))\n",
        "        yhat = model.predict(x_input, verbose=0)\n",
        "        print(yhat[0])\n",
        "        temp_input.extend(yhat[0].tolist())\n",
        "        print(len(temp_input))\n",
        "        lst_output.extend(yhat.tolist())\n",
        "        i=i+1\n",
        "    \n",
        "\n",
        "print(lst_output)"
      ],
      "metadata": {
        "colab": {
          "base_uri": "https://localhost:8080/"
        },
        "id": "KchLQ0Vmv3N_",
        "outputId": "b74bb867-c694-474f-ba80-7c30bce9841a"
      },
      "execution_count": 25,
      "outputs": [
        {
          "output_type": "stream",
          "name": "stdout",
          "text": [
            "[0.88677835]\n",
            "101\n",
            "1 day input [0.94816663 0.9478738  0.94456879 0.93260407 0.92796036 0.939716\n",
            " 0.97577765 0.93507229 0.93636921 0.93590899 0.93047045 0.92603602\n",
            " 0.91348555 0.88436843 0.89114567 0.8609409  0.83408293 0.81220327\n",
            " 0.84642422 0.86491522 0.87269654 0.85249028 0.8541218  0.86847118\n",
            " 0.88315526 0.88637653 0.89763007 0.88980697 0.88072882 0.91118463\n",
            " 0.8962495  0.8619449  0.83805724 0.8176418  0.81283079 0.76463703\n",
            " 0.75417831 0.7765181  0.77388248 0.74999482 0.71640139 0.5851654\n",
            " 0.6181313  0.5423683  0.57776065 0.50279251 0.49634993 0.46330038\n",
            " 0.42079615 0.50467508 0.39264125 0.44229929 0.55847473 0.54504569\n",
            " 0.54454369 0.51513375 0.5848307  0.55696863 0.55445854 0.6620997\n",
            " 0.65042781 0.67368794 0.64791772 0.61503546 0.63026342 0.67707661\n",
            " 0.69364326 0.6882465  0.79387957 0.7999875  0.83855924 0.84922714\n",
            " 0.84788844 0.84688434 0.86803608 0.84250843 0.86360165 0.86368529\n",
            " 0.90198096 0.9474387  0.95987202 0.87902192 0.90503482 0.85441462\n",
            " 0.87403524 0.85843081 0.83178201 0.85253205 0.85884916 0.85073323\n",
            " 0.844458   0.862447   0.88478678 0.87821873 0.92503192 0.9378752\n",
            " 0.94285362 0.97477365 0.97636329 0.88677835]\n",
            "1 day output [[0.8930191]]\n",
            "2 day input [0.9478738  0.94456879 0.93260407 0.92796036 0.939716   0.97577765\n",
            " 0.93507229 0.93636921 0.93590899 0.93047045 0.92603602 0.91348555\n",
            " 0.88436843 0.89114567 0.8609409  0.83408293 0.81220327 0.84642422\n",
            " 0.86491522 0.87269654 0.85249028 0.8541218  0.86847118 0.88315526\n",
            " 0.88637653 0.89763007 0.88980697 0.88072882 0.91118463 0.8962495\n",
            " 0.8619449  0.83805724 0.8176418  0.81283079 0.76463703 0.75417831\n",
            " 0.7765181  0.77388248 0.74999482 0.71640139 0.5851654  0.6181313\n",
            " 0.5423683  0.57776065 0.50279251 0.49634993 0.46330038 0.42079615\n",
            " 0.50467508 0.39264125 0.44229929 0.55847473 0.54504569 0.54454369\n",
            " 0.51513375 0.5848307  0.55696863 0.55445854 0.6620997  0.65042781\n",
            " 0.67368794 0.64791772 0.61503546 0.63026342 0.67707661 0.69364326\n",
            " 0.6882465  0.79387957 0.7999875  0.83855924 0.84922714 0.84788844\n",
            " 0.84688434 0.86803608 0.84250843 0.86360165 0.86368529 0.90198096\n",
            " 0.9474387  0.95987202 0.87902192 0.90503482 0.85441462 0.87403524\n",
            " 0.85843081 0.83178201 0.85253205 0.85884916 0.85073323 0.844458\n",
            " 0.862447   0.88478678 0.87821873 0.92503192 0.9378752  0.94285362\n",
            " 0.97477365 0.97636329 0.88677835 0.89301908]\n",
            "2 day output [[0.88975406]]\n",
            "3 day input [0.94456879 0.93260407 0.92796036 0.939716   0.97577765 0.93507229\n",
            " 0.93636921 0.93590899 0.93047045 0.92603602 0.91348555 0.88436843\n",
            " 0.89114567 0.8609409  0.83408293 0.81220327 0.84642422 0.86491522\n",
            " 0.87269654 0.85249028 0.8541218  0.86847118 0.88315526 0.88637653\n",
            " 0.89763007 0.88980697 0.88072882 0.91118463 0.8962495  0.8619449\n",
            " 0.83805724 0.8176418  0.81283079 0.76463703 0.75417831 0.7765181\n",
            " 0.77388248 0.74999482 0.71640139 0.5851654  0.6181313  0.5423683\n",
            " 0.57776065 0.50279251 0.49634993 0.46330038 0.42079615 0.50467508\n",
            " 0.39264125 0.44229929 0.55847473 0.54504569 0.54454369 0.51513375\n",
            " 0.5848307  0.55696863 0.55445854 0.6620997  0.65042781 0.67368794\n",
            " 0.64791772 0.61503546 0.63026342 0.67707661 0.69364326 0.6882465\n",
            " 0.79387957 0.7999875  0.83855924 0.84922714 0.84788844 0.84688434\n",
            " 0.86803608 0.84250843 0.86360165 0.86368529 0.90198096 0.9474387\n",
            " 0.95987202 0.87902192 0.90503482 0.85441462 0.87403524 0.85843081\n",
            " 0.83178201 0.85253205 0.85884916 0.85073323 0.844458   0.862447\n",
            " 0.88478678 0.87821873 0.92503192 0.9378752  0.94285362 0.97477365\n",
            " 0.97636329 0.88677835 0.89301908 0.88975406]\n",
            "3 day output [[0.88039875]]\n",
            "4 day input [0.93260407 0.92796036 0.939716   0.97577765 0.93507229 0.93636921\n",
            " 0.93590899 0.93047045 0.92603602 0.91348555 0.88436843 0.89114567\n",
            " 0.8609409  0.83408293 0.81220327 0.84642422 0.86491522 0.87269654\n",
            " 0.85249028 0.8541218  0.86847118 0.88315526 0.88637653 0.89763007\n",
            " 0.88980697 0.88072882 0.91118463 0.8962495  0.8619449  0.83805724\n",
            " 0.8176418  0.81283079 0.76463703 0.75417831 0.7765181  0.77388248\n",
            " 0.74999482 0.71640139 0.5851654  0.6181313  0.5423683  0.57776065\n",
            " 0.50279251 0.49634993 0.46330038 0.42079615 0.50467508 0.39264125\n",
            " 0.44229929 0.55847473 0.54504569 0.54454369 0.51513375 0.5848307\n",
            " 0.55696863 0.55445854 0.6620997  0.65042781 0.67368794 0.64791772\n",
            " 0.61503546 0.63026342 0.67707661 0.69364326 0.6882465  0.79387957\n",
            " 0.7999875  0.83855924 0.84922714 0.84788844 0.84688434 0.86803608\n",
            " 0.84250843 0.86360165 0.86368529 0.90198096 0.9474387  0.95987202\n",
            " 0.87902192 0.90503482 0.85441462 0.87403524 0.85843081 0.83178201\n",
            " 0.85253205 0.85884916 0.85073323 0.844458   0.862447   0.88478678\n",
            " 0.87821873 0.92503192 0.9378752  0.94285362 0.97477365 0.97636329\n",
            " 0.88677835 0.89301908 0.88975406 0.88039875]\n",
            "4 day output [[0.8675215]]\n",
            "5 day input [0.92796036 0.939716   0.97577765 0.93507229 0.93636921 0.93590899\n",
            " 0.93047045 0.92603602 0.91348555 0.88436843 0.89114567 0.8609409\n",
            " 0.83408293 0.81220327 0.84642422 0.86491522 0.87269654 0.85249028\n",
            " 0.8541218  0.86847118 0.88315526 0.88637653 0.89763007 0.88980697\n",
            " 0.88072882 0.91118463 0.8962495  0.8619449  0.83805724 0.8176418\n",
            " 0.81283079 0.76463703 0.75417831 0.7765181  0.77388248 0.74999482\n",
            " 0.71640139 0.5851654  0.6181313  0.5423683  0.57776065 0.50279251\n",
            " 0.49634993 0.46330038 0.42079615 0.50467508 0.39264125 0.44229929\n",
            " 0.55847473 0.54504569 0.54454369 0.51513375 0.5848307  0.55696863\n",
            " 0.55445854 0.6620997  0.65042781 0.67368794 0.64791772 0.61503546\n",
            " 0.63026342 0.67707661 0.69364326 0.6882465  0.79387957 0.7999875\n",
            " 0.83855924 0.84922714 0.84788844 0.84688434 0.86803608 0.84250843\n",
            " 0.86360165 0.86368529 0.90198096 0.9474387  0.95987202 0.87902192\n",
            " 0.90503482 0.85441462 0.87403524 0.85843081 0.83178201 0.85253205\n",
            " 0.85884916 0.85073323 0.844458   0.862447   0.88478678 0.87821873\n",
            " 0.92503192 0.9378752  0.94285362 0.97477365 0.97636329 0.88677835\n",
            " 0.89301908 0.88975406 0.88039875 0.86752152]\n",
            "5 day output [[0.8527668]]\n",
            "6 day input [0.939716   0.97577765 0.93507229 0.93636921 0.93590899 0.93047045\n",
            " 0.92603602 0.91348555 0.88436843 0.89114567 0.8609409  0.83408293\n",
            " 0.81220327 0.84642422 0.86491522 0.87269654 0.85249028 0.8541218\n",
            " 0.86847118 0.88315526 0.88637653 0.89763007 0.88980697 0.88072882\n",
            " 0.91118463 0.8962495  0.8619449  0.83805724 0.8176418  0.81283079\n",
            " 0.76463703 0.75417831 0.7765181  0.77388248 0.74999482 0.71640139\n",
            " 0.5851654  0.6181313  0.5423683  0.57776065 0.50279251 0.49634993\n",
            " 0.46330038 0.42079615 0.50467508 0.39264125 0.44229929 0.55847473\n",
            " 0.54504569 0.54454369 0.51513375 0.5848307  0.55696863 0.55445854\n",
            " 0.6620997  0.65042781 0.67368794 0.64791772 0.61503546 0.63026342\n",
            " 0.67707661 0.69364326 0.6882465  0.79387957 0.7999875  0.83855924\n",
            " 0.84922714 0.84788844 0.84688434 0.86803608 0.84250843 0.86360165\n",
            " 0.86368529 0.90198096 0.9474387  0.95987202 0.87902192 0.90503482\n",
            " 0.85441462 0.87403524 0.85843081 0.83178201 0.85253205 0.85884916\n",
            " 0.85073323 0.844458   0.862447   0.88478678 0.87821873 0.92503192\n",
            " 0.9378752  0.94285362 0.97477365 0.97636329 0.88677835 0.89301908\n",
            " 0.88975406 0.88039875 0.86752152 0.85276681]\n",
            "6 day output [[0.8370985]]\n",
            "7 day input [0.97577765 0.93507229 0.93636921 0.93590899 0.93047045 0.92603602\n",
            " 0.91348555 0.88436843 0.89114567 0.8609409  0.83408293 0.81220327\n",
            " 0.84642422 0.86491522 0.87269654 0.85249028 0.8541218  0.86847118\n",
            " 0.88315526 0.88637653 0.89763007 0.88980697 0.88072882 0.91118463\n",
            " 0.8962495  0.8619449  0.83805724 0.8176418  0.81283079 0.76463703\n",
            " 0.75417831 0.7765181  0.77388248 0.74999482 0.71640139 0.5851654\n",
            " 0.6181313  0.5423683  0.57776065 0.50279251 0.49634993 0.46330038\n",
            " 0.42079615 0.50467508 0.39264125 0.44229929 0.55847473 0.54504569\n",
            " 0.54454369 0.51513375 0.5848307  0.55696863 0.55445854 0.6620997\n",
            " 0.65042781 0.67368794 0.64791772 0.61503546 0.63026342 0.67707661\n",
            " 0.69364326 0.6882465  0.79387957 0.7999875  0.83855924 0.84922714\n",
            " 0.84788844 0.84688434 0.86803608 0.84250843 0.86360165 0.86368529\n",
            " 0.90198096 0.9474387  0.95987202 0.87902192 0.90503482 0.85441462\n",
            " 0.87403524 0.85843081 0.83178201 0.85253205 0.85884916 0.85073323\n",
            " 0.844458   0.862447   0.88478678 0.87821873 0.92503192 0.9378752\n",
            " 0.94285362 0.97477365 0.97636329 0.88677835 0.89301908 0.88975406\n",
            " 0.88039875 0.86752152 0.85276681 0.83709848]\n",
            "7 day output [[0.8210663]]\n",
            "8 day input [0.93507229 0.93636921 0.93590899 0.93047045 0.92603602 0.91348555\n",
            " 0.88436843 0.89114567 0.8609409  0.83408293 0.81220327 0.84642422\n",
            " 0.86491522 0.87269654 0.85249028 0.8541218  0.86847118 0.88315526\n",
            " 0.88637653 0.89763007 0.88980697 0.88072882 0.91118463 0.8962495\n",
            " 0.8619449  0.83805724 0.8176418  0.81283079 0.76463703 0.75417831\n",
            " 0.7765181  0.77388248 0.74999482 0.71640139 0.5851654  0.6181313\n",
            " 0.5423683  0.57776065 0.50279251 0.49634993 0.46330038 0.42079615\n",
            " 0.50467508 0.39264125 0.44229929 0.55847473 0.54504569 0.54454369\n",
            " 0.51513375 0.5848307  0.55696863 0.55445854 0.6620997  0.65042781\n",
            " 0.67368794 0.64791772 0.61503546 0.63026342 0.67707661 0.69364326\n",
            " 0.6882465  0.79387957 0.7999875  0.83855924 0.84922714 0.84788844\n",
            " 0.84688434 0.86803608 0.84250843 0.86360165 0.86368529 0.90198096\n",
            " 0.9474387  0.95987202 0.87902192 0.90503482 0.85441462 0.87403524\n",
            " 0.85843081 0.83178201 0.85253205 0.85884916 0.85073323 0.844458\n",
            " 0.862447   0.88478678 0.87821873 0.92503192 0.9378752  0.94285362\n",
            " 0.97477365 0.97636329 0.88677835 0.89301908 0.88975406 0.88039875\n",
            " 0.86752152 0.85276681 0.83709848 0.82106632]\n",
            "8 day output [[0.80498886]]\n",
            "9 day input [0.93636921 0.93590899 0.93047045 0.92603602 0.91348555 0.88436843\n",
            " 0.89114567 0.8609409  0.83408293 0.81220327 0.84642422 0.86491522\n",
            " 0.87269654 0.85249028 0.8541218  0.86847118 0.88315526 0.88637653\n",
            " 0.89763007 0.88980697 0.88072882 0.91118463 0.8962495  0.8619449\n",
            " 0.83805724 0.8176418  0.81283079 0.76463703 0.75417831 0.7765181\n",
            " 0.77388248 0.74999482 0.71640139 0.5851654  0.6181313  0.5423683\n",
            " 0.57776065 0.50279251 0.49634993 0.46330038 0.42079615 0.50467508\n",
            " 0.39264125 0.44229929 0.55847473 0.54504569 0.54454369 0.51513375\n",
            " 0.5848307  0.55696863 0.55445854 0.6620997  0.65042781 0.67368794\n",
            " 0.64791772 0.61503546 0.63026342 0.67707661 0.69364326 0.6882465\n",
            " 0.79387957 0.7999875  0.83855924 0.84922714 0.84788844 0.84688434\n",
            " 0.86803608 0.84250843 0.86360165 0.86368529 0.90198096 0.9474387\n",
            " 0.95987202 0.87902192 0.90503482 0.85441462 0.87403524 0.85843081\n",
            " 0.83178201 0.85253205 0.85884916 0.85073323 0.844458   0.862447\n",
            " 0.88478678 0.87821873 0.92503192 0.9378752  0.94285362 0.97477365\n",
            " 0.97636329 0.88677835 0.89301908 0.88975406 0.88039875 0.86752152\n",
            " 0.85276681 0.83709848 0.82106632 0.80498886]\n",
            "9 day output [[0.7890694]]\n",
            "10 day input [0.93590899 0.93047045 0.92603602 0.91348555 0.88436843 0.89114567\n",
            " 0.8609409  0.83408293 0.81220327 0.84642422 0.86491522 0.87269654\n",
            " 0.85249028 0.8541218  0.86847118 0.88315526 0.88637653 0.89763007\n",
            " 0.88980697 0.88072882 0.91118463 0.8962495  0.8619449  0.83805724\n",
            " 0.8176418  0.81283079 0.76463703 0.75417831 0.7765181  0.77388248\n",
            " 0.74999482 0.71640139 0.5851654  0.6181313  0.5423683  0.57776065\n",
            " 0.50279251 0.49634993 0.46330038 0.42079615 0.50467508 0.39264125\n",
            " 0.44229929 0.55847473 0.54504569 0.54454369 0.51513375 0.5848307\n",
            " 0.55696863 0.55445854 0.6620997  0.65042781 0.67368794 0.64791772\n",
            " 0.61503546 0.63026342 0.67707661 0.69364326 0.6882465  0.79387957\n",
            " 0.7999875  0.83855924 0.84922714 0.84788844 0.84688434 0.86803608\n",
            " 0.84250843 0.86360165 0.86368529 0.90198096 0.9474387  0.95987202\n",
            " 0.87902192 0.90503482 0.85441462 0.87403524 0.85843081 0.83178201\n",
            " 0.85253205 0.85884916 0.85073323 0.844458   0.862447   0.88478678\n",
            " 0.87821873 0.92503192 0.9378752  0.94285362 0.97477365 0.97636329\n",
            " 0.88677835 0.89301908 0.88975406 0.88039875 0.86752152 0.85276681\n",
            " 0.83709848 0.82106632 0.80498886 0.78906941]\n",
            "10 day output [[0.7734507]]\n",
            "11 day input [0.93047045 0.92603602 0.91348555 0.88436843 0.89114567 0.8609409\n",
            " 0.83408293 0.81220327 0.84642422 0.86491522 0.87269654 0.85249028\n",
            " 0.8541218  0.86847118 0.88315526 0.88637653 0.89763007 0.88980697\n",
            " 0.88072882 0.91118463 0.8962495  0.8619449  0.83805724 0.8176418\n",
            " 0.81283079 0.76463703 0.75417831 0.7765181  0.77388248 0.74999482\n",
            " 0.71640139 0.5851654  0.6181313  0.5423683  0.57776065 0.50279251\n",
            " 0.49634993 0.46330038 0.42079615 0.50467508 0.39264125 0.44229929\n",
            " 0.55847473 0.54504569 0.54454369 0.51513375 0.5848307  0.55696863\n",
            " 0.55445854 0.6620997  0.65042781 0.67368794 0.64791772 0.61503546\n",
            " 0.63026342 0.67707661 0.69364326 0.6882465  0.79387957 0.7999875\n",
            " 0.83855924 0.84922714 0.84788844 0.84688434 0.86803608 0.84250843\n",
            " 0.86360165 0.86368529 0.90198096 0.9474387  0.95987202 0.87902192\n",
            " 0.90503482 0.85441462 0.87403524 0.85843081 0.83178201 0.85253205\n",
            " 0.85884916 0.85073323 0.844458   0.862447   0.88478678 0.87821873\n",
            " 0.92503192 0.9378752  0.94285362 0.97477365 0.97636329 0.88677835\n",
            " 0.89301908 0.88975406 0.88039875 0.86752152 0.85276681 0.83709848\n",
            " 0.82106632 0.80498886 0.78906941 0.77345067]\n",
            "11 day output [[0.7582446]]\n",
            "12 day input [0.92603602 0.91348555 0.88436843 0.89114567 0.8609409  0.83408293\n",
            " 0.81220327 0.84642422 0.86491522 0.87269654 0.85249028 0.8541218\n",
            " 0.86847118 0.88315526 0.88637653 0.89763007 0.88980697 0.88072882\n",
            " 0.91118463 0.8962495  0.8619449  0.83805724 0.8176418  0.81283079\n",
            " 0.76463703 0.75417831 0.7765181  0.77388248 0.74999482 0.71640139\n",
            " 0.5851654  0.6181313  0.5423683  0.57776065 0.50279251 0.49634993\n",
            " 0.46330038 0.42079615 0.50467508 0.39264125 0.44229929 0.55847473\n",
            " 0.54504569 0.54454369 0.51513375 0.5848307  0.55696863 0.55445854\n",
            " 0.6620997  0.65042781 0.67368794 0.64791772 0.61503546 0.63026342\n",
            " 0.67707661 0.69364326 0.6882465  0.79387957 0.7999875  0.83855924\n",
            " 0.84922714 0.84788844 0.84688434 0.86803608 0.84250843 0.86360165\n",
            " 0.86368529 0.90198096 0.9474387  0.95987202 0.87902192 0.90503482\n",
            " 0.85441462 0.87403524 0.85843081 0.83178201 0.85253205 0.85884916\n",
            " 0.85073323 0.844458   0.862447   0.88478678 0.87821873 0.92503192\n",
            " 0.9378752  0.94285362 0.97477365 0.97636329 0.88677835 0.89301908\n",
            " 0.88975406 0.88039875 0.86752152 0.85276681 0.83709848 0.82106632\n",
            " 0.80498886 0.78906941 0.77345067 0.75824457]\n",
            "12 day output [[0.74354315]]\n",
            "13 day input [0.91348555 0.88436843 0.89114567 0.8609409  0.83408293 0.81220327\n",
            " 0.84642422 0.86491522 0.87269654 0.85249028 0.8541218  0.86847118\n",
            " 0.88315526 0.88637653 0.89763007 0.88980697 0.88072882 0.91118463\n",
            " 0.8962495  0.8619449  0.83805724 0.8176418  0.81283079 0.76463703\n",
            " 0.75417831 0.7765181  0.77388248 0.74999482 0.71640139 0.5851654\n",
            " 0.6181313  0.5423683  0.57776065 0.50279251 0.49634993 0.46330038\n",
            " 0.42079615 0.50467508 0.39264125 0.44229929 0.55847473 0.54504569\n",
            " 0.54454369 0.51513375 0.5848307  0.55696863 0.55445854 0.6620997\n",
            " 0.65042781 0.67368794 0.64791772 0.61503546 0.63026342 0.67707661\n",
            " 0.69364326 0.6882465  0.79387957 0.7999875  0.83855924 0.84922714\n",
            " 0.84788844 0.84688434 0.86803608 0.84250843 0.86360165 0.86368529\n",
            " 0.90198096 0.9474387  0.95987202 0.87902192 0.90503482 0.85441462\n",
            " 0.87403524 0.85843081 0.83178201 0.85253205 0.85884916 0.85073323\n",
            " 0.844458   0.862447   0.88478678 0.87821873 0.92503192 0.9378752\n",
            " 0.94285362 0.97477365 0.97636329 0.88677835 0.89301908 0.88975406\n",
            " 0.88039875 0.86752152 0.85276681 0.83709848 0.82106632 0.80498886\n",
            " 0.78906941 0.77345067 0.75824457 0.74354315]\n",
            "13 day output [[0.72942257]]\n",
            "14 day input [0.88436843 0.89114567 0.8609409  0.83408293 0.81220327 0.84642422\n",
            " 0.86491522 0.87269654 0.85249028 0.8541218  0.86847118 0.88315526\n",
            " 0.88637653 0.89763007 0.88980697 0.88072882 0.91118463 0.8962495\n",
            " 0.8619449  0.83805724 0.8176418  0.81283079 0.76463703 0.75417831\n",
            " 0.7765181  0.77388248 0.74999482 0.71640139 0.5851654  0.6181313\n",
            " 0.5423683  0.57776065 0.50279251 0.49634993 0.46330038 0.42079615\n",
            " 0.50467508 0.39264125 0.44229929 0.55847473 0.54504569 0.54454369\n",
            " 0.51513375 0.5848307  0.55696863 0.55445854 0.6620997  0.65042781\n",
            " 0.67368794 0.64791772 0.61503546 0.63026342 0.67707661 0.69364326\n",
            " 0.6882465  0.79387957 0.7999875  0.83855924 0.84922714 0.84788844\n",
            " 0.84688434 0.86803608 0.84250843 0.86360165 0.86368529 0.90198096\n",
            " 0.9474387  0.95987202 0.87902192 0.90503482 0.85441462 0.87403524\n",
            " 0.85843081 0.83178201 0.85253205 0.85884916 0.85073323 0.844458\n",
            " 0.862447   0.88478678 0.87821873 0.92503192 0.9378752  0.94285362\n",
            " 0.97477365 0.97636329 0.88677835 0.89301908 0.88975406 0.88039875\n",
            " 0.86752152 0.85276681 0.83709848 0.82106632 0.80498886 0.78906941\n",
            " 0.77345067 0.75824457 0.74354315 0.72942257]\n",
            "14 day output [[0.7159453]]\n",
            "15 day input [0.89114567 0.8609409  0.83408293 0.81220327 0.84642422 0.86491522\n",
            " 0.87269654 0.85249028 0.8541218  0.86847118 0.88315526 0.88637653\n",
            " 0.89763007 0.88980697 0.88072882 0.91118463 0.8962495  0.8619449\n",
            " 0.83805724 0.8176418  0.81283079 0.76463703 0.75417831 0.7765181\n",
            " 0.77388248 0.74999482 0.71640139 0.5851654  0.6181313  0.5423683\n",
            " 0.57776065 0.50279251 0.49634993 0.46330038 0.42079615 0.50467508\n",
            " 0.39264125 0.44229929 0.55847473 0.54504569 0.54454369 0.51513375\n",
            " 0.5848307  0.55696863 0.55445854 0.6620997  0.65042781 0.67368794\n",
            " 0.64791772 0.61503546 0.63026342 0.67707661 0.69364326 0.6882465\n",
            " 0.79387957 0.7999875  0.83855924 0.84922714 0.84788844 0.84688434\n",
            " 0.86803608 0.84250843 0.86360165 0.86368529 0.90198096 0.9474387\n",
            " 0.95987202 0.87902192 0.90503482 0.85441462 0.87403524 0.85843081\n",
            " 0.83178201 0.85253205 0.85884916 0.85073323 0.844458   0.862447\n",
            " 0.88478678 0.87821873 0.92503192 0.9378752  0.94285362 0.97477365\n",
            " 0.97636329 0.88677835 0.89301908 0.88975406 0.88039875 0.86752152\n",
            " 0.85276681 0.83709848 0.82106632 0.80498886 0.78906941 0.77345067\n",
            " 0.75824457 0.74354315 0.72942257 0.7159453 ]\n",
            "15 day output [[0.7031599]]\n",
            "16 day input [0.8609409  0.83408293 0.81220327 0.84642422 0.86491522 0.87269654\n",
            " 0.85249028 0.8541218  0.86847118 0.88315526 0.88637653 0.89763007\n",
            " 0.88980697 0.88072882 0.91118463 0.8962495  0.8619449  0.83805724\n",
            " 0.8176418  0.81283079 0.76463703 0.75417831 0.7765181  0.77388248\n",
            " 0.74999482 0.71640139 0.5851654  0.6181313  0.5423683  0.57776065\n",
            " 0.50279251 0.49634993 0.46330038 0.42079615 0.50467508 0.39264125\n",
            " 0.44229929 0.55847473 0.54504569 0.54454369 0.51513375 0.5848307\n",
            " 0.55696863 0.55445854 0.6620997  0.65042781 0.67368794 0.64791772\n",
            " 0.61503546 0.63026342 0.67707661 0.69364326 0.6882465  0.79387957\n",
            " 0.7999875  0.83855924 0.84922714 0.84788844 0.84688434 0.86803608\n",
            " 0.84250843 0.86360165 0.86368529 0.90198096 0.9474387  0.95987202\n",
            " 0.87902192 0.90503482 0.85441462 0.87403524 0.85843081 0.83178201\n",
            " 0.85253205 0.85884916 0.85073323 0.844458   0.862447   0.88478678\n",
            " 0.87821873 0.92503192 0.9378752  0.94285362 0.97477365 0.97636329\n",
            " 0.88677835 0.89301908 0.88975406 0.88039875 0.86752152 0.85276681\n",
            " 0.83709848 0.82106632 0.80498886 0.78906941 0.77345067 0.75824457\n",
            " 0.74354315 0.72942257 0.7159453  0.70315993]\n",
            "16 day output [[0.6911013]]\n",
            "17 day input [0.83408293 0.81220327 0.84642422 0.86491522 0.87269654 0.85249028\n",
            " 0.8541218  0.86847118 0.88315526 0.88637653 0.89763007 0.88980697\n",
            " 0.88072882 0.91118463 0.8962495  0.8619449  0.83805724 0.8176418\n",
            " 0.81283079 0.76463703 0.75417831 0.7765181  0.77388248 0.74999482\n",
            " 0.71640139 0.5851654  0.6181313  0.5423683  0.57776065 0.50279251\n",
            " 0.49634993 0.46330038 0.42079615 0.50467508 0.39264125 0.44229929\n",
            " 0.55847473 0.54504569 0.54454369 0.51513375 0.5848307  0.55696863\n",
            " 0.55445854 0.6620997  0.65042781 0.67368794 0.64791772 0.61503546\n",
            " 0.63026342 0.67707661 0.69364326 0.6882465  0.79387957 0.7999875\n",
            " 0.83855924 0.84922714 0.84788844 0.84688434 0.86803608 0.84250843\n",
            " 0.86360165 0.86368529 0.90198096 0.9474387  0.95987202 0.87902192\n",
            " 0.90503482 0.85441462 0.87403524 0.85843081 0.83178201 0.85253205\n",
            " 0.85884916 0.85073323 0.844458   0.862447   0.88478678 0.87821873\n",
            " 0.92503192 0.9378752  0.94285362 0.97477365 0.97636329 0.88677835\n",
            " 0.89301908 0.88975406 0.88039875 0.86752152 0.85276681 0.83709848\n",
            " 0.82106632 0.80498886 0.78906941 0.77345067 0.75824457 0.74354315\n",
            " 0.72942257 0.7159453  0.70315993 0.69110131]\n",
            "17 day output [[0.6797911]]\n",
            "18 day input [0.81220327 0.84642422 0.86491522 0.87269654 0.85249028 0.8541218\n",
            " 0.86847118 0.88315526 0.88637653 0.89763007 0.88980697 0.88072882\n",
            " 0.91118463 0.8962495  0.8619449  0.83805724 0.8176418  0.81283079\n",
            " 0.76463703 0.75417831 0.7765181  0.77388248 0.74999482 0.71640139\n",
            " 0.5851654  0.6181313  0.5423683  0.57776065 0.50279251 0.49634993\n",
            " 0.46330038 0.42079615 0.50467508 0.39264125 0.44229929 0.55847473\n",
            " 0.54504569 0.54454369 0.51513375 0.5848307  0.55696863 0.55445854\n",
            " 0.6620997  0.65042781 0.67368794 0.64791772 0.61503546 0.63026342\n",
            " 0.67707661 0.69364326 0.6882465  0.79387957 0.7999875  0.83855924\n",
            " 0.84922714 0.84788844 0.84688434 0.86803608 0.84250843 0.86360165\n",
            " 0.86368529 0.90198096 0.9474387  0.95987202 0.87902192 0.90503482\n",
            " 0.85441462 0.87403524 0.85843081 0.83178201 0.85253205 0.85884916\n",
            " 0.85073323 0.844458   0.862447   0.88478678 0.87821873 0.92503192\n",
            " 0.9378752  0.94285362 0.97477365 0.97636329 0.88677835 0.89301908\n",
            " 0.88975406 0.88039875 0.86752152 0.85276681 0.83709848 0.82106632\n",
            " 0.80498886 0.78906941 0.77345067 0.75824457 0.74354315 0.72942257\n",
            " 0.7159453  0.70315993 0.69110131 0.67979109]\n",
            "18 day output [[0.6692366]]\n",
            "19 day input [0.84642422 0.86491522 0.87269654 0.85249028 0.8541218  0.86847118\n",
            " 0.88315526 0.88637653 0.89763007 0.88980697 0.88072882 0.91118463\n",
            " 0.8962495  0.8619449  0.83805724 0.8176418  0.81283079 0.76463703\n",
            " 0.75417831 0.7765181  0.77388248 0.74999482 0.71640139 0.5851654\n",
            " 0.6181313  0.5423683  0.57776065 0.50279251 0.49634993 0.46330038\n",
            " 0.42079615 0.50467508 0.39264125 0.44229929 0.55847473 0.54504569\n",
            " 0.54454369 0.51513375 0.5848307  0.55696863 0.55445854 0.6620997\n",
            " 0.65042781 0.67368794 0.64791772 0.61503546 0.63026342 0.67707661\n",
            " 0.69364326 0.6882465  0.79387957 0.7999875  0.83855924 0.84922714\n",
            " 0.84788844 0.84688434 0.86803608 0.84250843 0.86360165 0.86368529\n",
            " 0.90198096 0.9474387  0.95987202 0.87902192 0.90503482 0.85441462\n",
            " 0.87403524 0.85843081 0.83178201 0.85253205 0.85884916 0.85073323\n",
            " 0.844458   0.862447   0.88478678 0.87821873 0.92503192 0.9378752\n",
            " 0.94285362 0.97477365 0.97636329 0.88677835 0.89301908 0.88975406\n",
            " 0.88039875 0.86752152 0.85276681 0.83709848 0.82106632 0.80498886\n",
            " 0.78906941 0.77345067 0.75824457 0.74354315 0.72942257 0.7159453\n",
            " 0.70315993 0.69110131 0.67979109 0.6692366 ]\n",
            "19 day output [[0.65943277]]\n",
            "20 day input [0.86491522 0.87269654 0.85249028 0.8541218  0.86847118 0.88315526\n",
            " 0.88637653 0.89763007 0.88980697 0.88072882 0.91118463 0.8962495\n",
            " 0.8619449  0.83805724 0.8176418  0.81283079 0.76463703 0.75417831\n",
            " 0.7765181  0.77388248 0.74999482 0.71640139 0.5851654  0.6181313\n",
            " 0.5423683  0.57776065 0.50279251 0.49634993 0.46330038 0.42079615\n",
            " 0.50467508 0.39264125 0.44229929 0.55847473 0.54504569 0.54454369\n",
            " 0.51513375 0.5848307  0.55696863 0.55445854 0.6620997  0.65042781\n",
            " 0.67368794 0.64791772 0.61503546 0.63026342 0.67707661 0.69364326\n",
            " 0.6882465  0.79387957 0.7999875  0.83855924 0.84922714 0.84788844\n",
            " 0.84688434 0.86803608 0.84250843 0.86360165 0.86368529 0.90198096\n",
            " 0.9474387  0.95987202 0.87902192 0.90503482 0.85441462 0.87403524\n",
            " 0.85843081 0.83178201 0.85253205 0.85884916 0.85073323 0.844458\n",
            " 0.862447   0.88478678 0.87821873 0.92503192 0.9378752  0.94285362\n",
            " 0.97477365 0.97636329 0.88677835 0.89301908 0.88975406 0.88039875\n",
            " 0.86752152 0.85276681 0.83709848 0.82106632 0.80498886 0.78906941\n",
            " 0.77345067 0.75824457 0.74354315 0.72942257 0.7159453  0.70315993\n",
            " 0.69110131 0.67979109 0.6692366  0.65943277]\n",
            "20 day output [[0.6503612]]\n",
            "21 day input [0.87269654 0.85249028 0.8541218  0.86847118 0.88315526 0.88637653\n",
            " 0.89763007 0.88980697 0.88072882 0.91118463 0.8962495  0.8619449\n",
            " 0.83805724 0.8176418  0.81283079 0.76463703 0.75417831 0.7765181\n",
            " 0.77388248 0.74999482 0.71640139 0.5851654  0.6181313  0.5423683\n",
            " 0.57776065 0.50279251 0.49634993 0.46330038 0.42079615 0.50467508\n",
            " 0.39264125 0.44229929 0.55847473 0.54504569 0.54454369 0.51513375\n",
            " 0.5848307  0.55696863 0.55445854 0.6620997  0.65042781 0.67368794\n",
            " 0.64791772 0.61503546 0.63026342 0.67707661 0.69364326 0.6882465\n",
            " 0.79387957 0.7999875  0.83855924 0.84922714 0.84788844 0.84688434\n",
            " 0.86803608 0.84250843 0.86360165 0.86368529 0.90198096 0.9474387\n",
            " 0.95987202 0.87902192 0.90503482 0.85441462 0.87403524 0.85843081\n",
            " 0.83178201 0.85253205 0.85884916 0.85073323 0.844458   0.862447\n",
            " 0.88478678 0.87821873 0.92503192 0.9378752  0.94285362 0.97477365\n",
            " 0.97636329 0.88677835 0.89301908 0.88975406 0.88039875 0.86752152\n",
            " 0.85276681 0.83709848 0.82106632 0.80498886 0.78906941 0.77345067\n",
            " 0.75824457 0.74354315 0.72942257 0.7159453  0.70315993 0.69110131\n",
            " 0.67979109 0.6692366  0.65943277 0.65036118]\n",
            "21 day output [[0.6419921]]\n",
            "22 day input [0.85249028 0.8541218  0.86847118 0.88315526 0.88637653 0.89763007\n",
            " 0.88980697 0.88072882 0.91118463 0.8962495  0.8619449  0.83805724\n",
            " 0.8176418  0.81283079 0.76463703 0.75417831 0.7765181  0.77388248\n",
            " 0.74999482 0.71640139 0.5851654  0.6181313  0.5423683  0.57776065\n",
            " 0.50279251 0.49634993 0.46330038 0.42079615 0.50467508 0.39264125\n",
            " 0.44229929 0.55847473 0.54504569 0.54454369 0.51513375 0.5848307\n",
            " 0.55696863 0.55445854 0.6620997  0.65042781 0.67368794 0.64791772\n",
            " 0.61503546 0.63026342 0.67707661 0.69364326 0.6882465  0.79387957\n",
            " 0.7999875  0.83855924 0.84922714 0.84788844 0.84688434 0.86803608\n",
            " 0.84250843 0.86360165 0.86368529 0.90198096 0.9474387  0.95987202\n",
            " 0.87902192 0.90503482 0.85441462 0.87403524 0.85843081 0.83178201\n",
            " 0.85253205 0.85884916 0.85073323 0.844458   0.862447   0.88478678\n",
            " 0.87821873 0.92503192 0.9378752  0.94285362 0.97477365 0.97636329\n",
            " 0.88677835 0.89301908 0.88975406 0.88039875 0.86752152 0.85276681\n",
            " 0.83709848 0.82106632 0.80498886 0.78906941 0.77345067 0.75824457\n",
            " 0.74354315 0.72942257 0.7159453  0.70315993 0.69110131 0.67979109\n",
            " 0.6692366  0.65943277 0.65036118 0.64199209]\n",
            "22 day output [[0.63428587]]\n",
            "23 day input [0.8541218  0.86847118 0.88315526 0.88637653 0.89763007 0.88980697\n",
            " 0.88072882 0.91118463 0.8962495  0.8619449  0.83805724 0.8176418\n",
            " 0.81283079 0.76463703 0.75417831 0.7765181  0.77388248 0.74999482\n",
            " 0.71640139 0.5851654  0.6181313  0.5423683  0.57776065 0.50279251\n",
            " 0.49634993 0.46330038 0.42079615 0.50467508 0.39264125 0.44229929\n",
            " 0.55847473 0.54504569 0.54454369 0.51513375 0.5848307  0.55696863\n",
            " 0.55445854 0.6620997  0.65042781 0.67368794 0.64791772 0.61503546\n",
            " 0.63026342 0.67707661 0.69364326 0.6882465  0.79387957 0.7999875\n",
            " 0.83855924 0.84922714 0.84788844 0.84688434 0.86803608 0.84250843\n",
            " 0.86360165 0.86368529 0.90198096 0.9474387  0.95987202 0.87902192\n",
            " 0.90503482 0.85441462 0.87403524 0.85843081 0.83178201 0.85253205\n",
            " 0.85884916 0.85073323 0.844458   0.862447   0.88478678 0.87821873\n",
            " 0.92503192 0.9378752  0.94285362 0.97477365 0.97636329 0.88677835\n",
            " 0.89301908 0.88975406 0.88039875 0.86752152 0.85276681 0.83709848\n",
            " 0.82106632 0.80498886 0.78906941 0.77345067 0.75824457 0.74354315\n",
            " 0.72942257 0.7159453  0.70315993 0.69110131 0.67979109 0.6692366\n",
            " 0.65943277 0.65036118 0.64199209 0.63428587]\n",
            "23 day output [[0.62719434]]\n",
            "24 day input [0.86847118 0.88315526 0.88637653 0.89763007 0.88980697 0.88072882\n",
            " 0.91118463 0.8962495  0.8619449  0.83805724 0.8176418  0.81283079\n",
            " 0.76463703 0.75417831 0.7765181  0.77388248 0.74999482 0.71640139\n",
            " 0.5851654  0.6181313  0.5423683  0.57776065 0.50279251 0.49634993\n",
            " 0.46330038 0.42079615 0.50467508 0.39264125 0.44229929 0.55847473\n",
            " 0.54504569 0.54454369 0.51513375 0.5848307  0.55696863 0.55445854\n",
            " 0.6620997  0.65042781 0.67368794 0.64791772 0.61503546 0.63026342\n",
            " 0.67707661 0.69364326 0.6882465  0.79387957 0.7999875  0.83855924\n",
            " 0.84922714 0.84788844 0.84688434 0.86803608 0.84250843 0.86360165\n",
            " 0.86368529 0.90198096 0.9474387  0.95987202 0.87902192 0.90503482\n",
            " 0.85441462 0.87403524 0.85843081 0.83178201 0.85253205 0.85884916\n",
            " 0.85073323 0.844458   0.862447   0.88478678 0.87821873 0.92503192\n",
            " 0.9378752  0.94285362 0.97477365 0.97636329 0.88677835 0.89301908\n",
            " 0.88975406 0.88039875 0.86752152 0.85276681 0.83709848 0.82106632\n",
            " 0.80498886 0.78906941 0.77345067 0.75824457 0.74354315 0.72942257\n",
            " 0.7159453  0.70315993 0.69110131 0.67979109 0.6692366  0.65943277\n",
            " 0.65036118 0.64199209 0.63428587 0.62719434]\n",
            "24 day output [[0.62066317]]\n",
            "25 day input [0.88315526 0.88637653 0.89763007 0.88980697 0.88072882 0.91118463\n",
            " 0.8962495  0.8619449  0.83805724 0.8176418  0.81283079 0.76463703\n",
            " 0.75417831 0.7765181  0.77388248 0.74999482 0.71640139 0.5851654\n",
            " 0.6181313  0.5423683  0.57776065 0.50279251 0.49634993 0.46330038\n",
            " 0.42079615 0.50467508 0.39264125 0.44229929 0.55847473 0.54504569\n",
            " 0.54454369 0.51513375 0.5848307  0.55696863 0.55445854 0.6620997\n",
            " 0.65042781 0.67368794 0.64791772 0.61503546 0.63026342 0.67707661\n",
            " 0.69364326 0.6882465  0.79387957 0.7999875  0.83855924 0.84922714\n",
            " 0.84788844 0.84688434 0.86803608 0.84250843 0.86360165 0.86368529\n",
            " 0.90198096 0.9474387  0.95987202 0.87902192 0.90503482 0.85441462\n",
            " 0.87403524 0.85843081 0.83178201 0.85253205 0.85884916 0.85073323\n",
            " 0.844458   0.862447   0.88478678 0.87821873 0.92503192 0.9378752\n",
            " 0.94285362 0.97477365 0.97636329 0.88677835 0.89301908 0.88975406\n",
            " 0.88039875 0.86752152 0.85276681 0.83709848 0.82106632 0.80498886\n",
            " 0.78906941 0.77345067 0.75824457 0.74354315 0.72942257 0.7159453\n",
            " 0.70315993 0.69110131 0.67979109 0.6692366  0.65943277 0.65036118\n",
            " 0.64199209 0.63428587 0.62719434 0.62066317]\n",
            "25 day output [[0.6146338]]\n",
            "26 day input [0.88637653 0.89763007 0.88980697 0.88072882 0.91118463 0.8962495\n",
            " 0.8619449  0.83805724 0.8176418  0.81283079 0.76463703 0.75417831\n",
            " 0.7765181  0.77388248 0.74999482 0.71640139 0.5851654  0.6181313\n",
            " 0.5423683  0.57776065 0.50279251 0.49634993 0.46330038 0.42079615\n",
            " 0.50467508 0.39264125 0.44229929 0.55847473 0.54504569 0.54454369\n",
            " 0.51513375 0.5848307  0.55696863 0.55445854 0.6620997  0.65042781\n",
            " 0.67368794 0.64791772 0.61503546 0.63026342 0.67707661 0.69364326\n",
            " 0.6882465  0.79387957 0.7999875  0.83855924 0.84922714 0.84788844\n",
            " 0.84688434 0.86803608 0.84250843 0.86360165 0.86368529 0.90198096\n",
            " 0.9474387  0.95987202 0.87902192 0.90503482 0.85441462 0.87403524\n",
            " 0.85843081 0.83178201 0.85253205 0.85884916 0.85073323 0.844458\n",
            " 0.862447   0.88478678 0.87821873 0.92503192 0.9378752  0.94285362\n",
            " 0.97477365 0.97636329 0.88677835 0.89301908 0.88975406 0.88039875\n",
            " 0.86752152 0.85276681 0.83709848 0.82106632 0.80498886 0.78906941\n",
            " 0.77345067 0.75824457 0.74354315 0.72942257 0.7159453  0.70315993\n",
            " 0.69110131 0.67979109 0.6692366  0.65943277 0.65036118 0.64199209\n",
            " 0.63428587 0.62719434 0.62066317 0.6146338 ]\n",
            "26 day output [[0.6090458]]\n",
            "27 day input [0.89763007 0.88980697 0.88072882 0.91118463 0.8962495  0.8619449\n",
            " 0.83805724 0.8176418  0.81283079 0.76463703 0.75417831 0.7765181\n",
            " 0.77388248 0.74999482 0.71640139 0.5851654  0.6181313  0.5423683\n",
            " 0.57776065 0.50279251 0.49634993 0.46330038 0.42079615 0.50467508\n",
            " 0.39264125 0.44229929 0.55847473 0.54504569 0.54454369 0.51513375\n",
            " 0.5848307  0.55696863 0.55445854 0.6620997  0.65042781 0.67368794\n",
            " 0.64791772 0.61503546 0.63026342 0.67707661 0.69364326 0.6882465\n",
            " 0.79387957 0.7999875  0.83855924 0.84922714 0.84788844 0.84688434\n",
            " 0.86803608 0.84250843 0.86360165 0.86368529 0.90198096 0.9474387\n",
            " 0.95987202 0.87902192 0.90503482 0.85441462 0.87403524 0.85843081\n",
            " 0.83178201 0.85253205 0.85884916 0.85073323 0.844458   0.862447\n",
            " 0.88478678 0.87821873 0.92503192 0.9378752  0.94285362 0.97477365\n",
            " 0.97636329 0.88677835 0.89301908 0.88975406 0.88039875 0.86752152\n",
            " 0.85276681 0.83709848 0.82106632 0.80498886 0.78906941 0.77345067\n",
            " 0.75824457 0.74354315 0.72942257 0.7159453  0.70315993 0.69110131\n",
            " 0.67979109 0.6692366  0.65943277 0.65036118 0.64199209 0.63428587\n",
            " 0.62719434 0.62066317 0.6146338  0.6090458 ]\n",
            "27 day output [[0.6038376]]\n",
            "28 day input [0.88980697 0.88072882 0.91118463 0.8962495  0.8619449  0.83805724\n",
            " 0.8176418  0.81283079 0.76463703 0.75417831 0.7765181  0.77388248\n",
            " 0.74999482 0.71640139 0.5851654  0.6181313  0.5423683  0.57776065\n",
            " 0.50279251 0.49634993 0.46330038 0.42079615 0.50467508 0.39264125\n",
            " 0.44229929 0.55847473 0.54504569 0.54454369 0.51513375 0.5848307\n",
            " 0.55696863 0.55445854 0.6620997  0.65042781 0.67368794 0.64791772\n",
            " 0.61503546 0.63026342 0.67707661 0.69364326 0.6882465  0.79387957\n",
            " 0.7999875  0.83855924 0.84922714 0.84788844 0.84688434 0.86803608\n",
            " 0.84250843 0.86360165 0.86368529 0.90198096 0.9474387  0.95987202\n",
            " 0.87902192 0.90503482 0.85441462 0.87403524 0.85843081 0.83178201\n",
            " 0.85253205 0.85884916 0.85073323 0.844458   0.862447   0.88478678\n",
            " 0.87821873 0.92503192 0.9378752  0.94285362 0.97477365 0.97636329\n",
            " 0.88677835 0.89301908 0.88975406 0.88039875 0.86752152 0.85276681\n",
            " 0.83709848 0.82106632 0.80498886 0.78906941 0.77345067 0.75824457\n",
            " 0.74354315 0.72942257 0.7159453  0.70315993 0.69110131 0.67979109\n",
            " 0.6692366  0.65943277 0.65036118 0.64199209 0.63428587 0.62719434\n",
            " 0.62066317 0.6146338  0.6090458  0.60383761]\n",
            "28 day output [[0.5989494]]\n",
            "29 day input [0.88072882 0.91118463 0.8962495  0.8619449  0.83805724 0.8176418\n",
            " 0.81283079 0.76463703 0.75417831 0.7765181  0.77388248 0.74999482\n",
            " 0.71640139 0.5851654  0.6181313  0.5423683  0.57776065 0.50279251\n",
            " 0.49634993 0.46330038 0.42079615 0.50467508 0.39264125 0.44229929\n",
            " 0.55847473 0.54504569 0.54454369 0.51513375 0.5848307  0.55696863\n",
            " 0.55445854 0.6620997  0.65042781 0.67368794 0.64791772 0.61503546\n",
            " 0.63026342 0.67707661 0.69364326 0.6882465  0.79387957 0.7999875\n",
            " 0.83855924 0.84922714 0.84788844 0.84688434 0.86803608 0.84250843\n",
            " 0.86360165 0.86368529 0.90198096 0.9474387  0.95987202 0.87902192\n",
            " 0.90503482 0.85441462 0.87403524 0.85843081 0.83178201 0.85253205\n",
            " 0.85884916 0.85073323 0.844458   0.862447   0.88478678 0.87821873\n",
            " 0.92503192 0.9378752  0.94285362 0.97477365 0.97636329 0.88677835\n",
            " 0.89301908 0.88975406 0.88039875 0.86752152 0.85276681 0.83709848\n",
            " 0.82106632 0.80498886 0.78906941 0.77345067 0.75824457 0.74354315\n",
            " 0.72942257 0.7159453  0.70315993 0.69110131 0.67979109 0.6692366\n",
            " 0.65943277 0.65036118 0.64199209 0.63428587 0.62719434 0.62066317\n",
            " 0.6146338  0.6090458  0.60383761 0.59894937]\n",
            "29 day output [[0.5943232]]\n",
            "[[0.8867783546447754], [0.8930190801620483], [0.889754056930542], [0.8803987503051758], [0.8675215244293213], [0.8527668118476868], [0.8370984792709351], [0.8210663199424744], [0.8049888610839844], [0.789069414138794], [0.7734506726264954], [0.7582445740699768], [0.7435431480407715], [0.7294225692749023], [0.715945303440094], [0.7031599283218384], [0.6911013126373291], [0.6797910928726196], [0.6692366003990173], [0.6594327688217163], [0.650361180305481], [0.6419920921325684], [0.6342858672142029], [0.627194344997406], [0.6206631660461426], [0.6146337985992432], [0.6090458035469055], [0.6038376092910767], [0.5989493727684021], [0.5943232178688049]]\n"
          ]
        }
      ]
    },
    {
      "cell_type": "code",
      "source": [
        "day_new = np.arange(1,101)\n",
        "day_pred = np.arange(101,131)"
      ],
      "metadata": {
        "id": "9NJhKTkZv6_g"
      },
      "execution_count": 26,
      "outputs": []
    },
    {
      "cell_type": "code",
      "source": [
        "day_new = np.arange(1,101)\n",
        "day_pred = np.arange(101,131)"
      ],
      "metadata": {
        "id": "M4fD7lw5v7i5"
      },
      "execution_count": 27,
      "outputs": []
    },
    {
      "cell_type": "code",
      "source": [
        "len(df_close)"
      ],
      "metadata": {
        "colab": {
          "base_uri": "https://localhost:8080/"
        },
        "id": "-r8eU_Ggv_pb",
        "outputId": "3e7ee425-ae81-4c92-c1f0-a829858b9a3b"
      },
      "execution_count": 28,
      "outputs": [
        {
          "output_type": "execute_result",
          "data": {
            "text/plain": [
              "1228"
            ]
          },
          "metadata": {},
          "execution_count": 28
        }
      ]
    },
    {
      "cell_type": "code",
      "source": [
        "plt.plot(day_new, scaler.inverse_transform(df_close[1128:]))\n",
        "plt.plot(day_pred, scaler.inverse_transform(lst_output))"
      ],
      "metadata": {
        "colab": {
          "base_uri": "https://localhost:8080/",
          "height": 447
        },
        "id": "4YkNhNr5wD7e",
        "outputId": "c5935493-ec77-4efc-f903-e25df968de73"
      },
      "execution_count": 29,
      "outputs": [
        {
          "output_type": "execute_result",
          "data": {
            "text/plain": [
              "[<matplotlib.lines.Line2D at 0x7f3f16b7ba30>]"
            ]
          },
          "metadata": {},
          "execution_count": 29
        },
        {
          "output_type": "display_data",
          "data": {
            "text/plain": [
              "<Figure size 640x480 with 1 Axes>"
            ],
            "image/png": "[encoded data removed]"
          },
          "metadata": {}
        }
      ]
    }
  ]
}